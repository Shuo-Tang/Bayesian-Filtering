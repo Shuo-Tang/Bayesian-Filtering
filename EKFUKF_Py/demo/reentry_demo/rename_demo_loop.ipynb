{
 "cells": [
  {
   "cell_type": "code",
   "execution_count": 1,
   "metadata": {},
   "outputs": [],
   "source": [
    "import numpy as np\n",
    "from tqdm import tqdm, trange"
   ]
  },
  {
   "cell_type": "code",
   "execution_count": 2,
   "metadata": {},
   "outputs": [],
   "source": [
    "## Run the reentry demo ns times to obtain some reliable results\n",
    "\n",
    "# Number of loops\n",
    "ns = 10"
   ]
  },
  {
   "cell_type": "code",
   "execution_count": 3,
   "metadata": {},
   "outputs": [
    {
     "name": "stderr",
     "output_type": "stream",
     "text": [
      "100%|██████████| 10/10 [36:43<00:00, 220.30s/it]\n"
     ]
    }
   ],
   "source": [
    "# Allocate space for results\n",
    "rmse_results = np.zeros((ns,11))\n",
    "\n",
    "for loop in trange(ns):\n",
    "\n",
    "    # Run the demos (with silent=1, keep_trajectory=1 - not in first)\n",
    "    %run ./reentry_demo.ipynb\n",
    "\n",
    "    rmse_results[loop] = [ekf_rmse,      # EKF\n",
    "                          eks_rmse1,     # ERTS\n",
    "                          eks_rmse2,     # ETF\n",
    "                          ukf_rmse,      # UKF\n",
    "                          uks_rmse1,     # URTS 1\n",
    "                          uks_rmse1b,    # URTS 2\n",
    "                          uks_rmse2,     # UTF\n",
    "                          ghkf_rmse,     # GHKF\n",
    "                          ghrts_rmse1,   # GHRTS\n",
    "                          ckf_rmse,      # CHKF\n",
    "                          crts_rmse1]   # CRTS"
   ]
  },
  {
   "cell_type": "code",
   "execution_count": 10,
   "metadata": {},
   "outputs": [],
   "source": [
    "# Calculate means\n",
    "means = np.mean(rmse_results,axis=0)"
   ]
  },
  {
   "cell_type": "code",
   "execution_count": 17,
   "metadata": {},
   "outputs": [
    {
     "name": "stdout",
     "output_type": "stream",
     "text": [
      "Average RMSE results over 10  Monte Carlo runs:\n",
      "  EKF-RMSE   = 0.008221\n",
      "  ERTS-RMSE  = 0.004402\n",
      "  ETF-RMSE   = 0.023683\n",
      "  UKF-RMSE   = 0.008231\n",
      "  URTS1-RMSE = 0.004401\n",
      "  URTS2-RMSE = 0.004401\n",
      "  UTF-RMSE   = 0.004406\n",
      "  GHKF-RMSE  = 0.008229\n",
      "  GHRTS-RMSE = 0.004402\n",
      "  CKF-RMSE   = 0.008233\n",
      "  CRTS-RMSE  = 0.004400\n",
      "\n"
     ]
    }
   ],
   "source": [
    "# Show average results\n",
    "print('Average RMSE results over', ns, ' Monte Carlo runs:')\n",
    "print('  EKF-RMSE   = {:4f}\\n  ERTS-RMSE  = {:4f}\\n  ETF-RMSE   = {:4f}\\n\\\n",
    "  UKF-RMSE   = {:4f}\\n  URTS1-RMSE = {:4f}\\n  URTS2-RMSE = {:4f}\\n\\\n",
    "  UTF-RMSE   = {:4f}\\n\\\n",
    "  GHKF-RMSE  = {:4f}\\n  GHRTS-RMSE = {:4f}\\n\\\n",
    "  CKF-RMSE   = {:4f}\\n  CRTS-RMSE  = {:4f}\\n'.format(*means))"
   ]
  },
  {
   "cell_type": "code",
   "execution_count": null,
   "metadata": {},
   "outputs": [],
   "source": []
  }
 ],
 "metadata": {
  "kernelspec": {
   "display_name": "Python 3",
   "language": "python",
   "name": "python3"
  },
  "language_info": {
   "codemirror_mode": {
    "name": "ipython",
    "version": 3
   },
   "file_extension": ".py",
   "mimetype": "text/x-python",
   "name": "python",
   "nbconvert_exporter": "python",
   "pygments_lexer": "ipython3",
   "version": "3.7.4"
  }
 },
 "nbformat": 4,
 "nbformat_minor": 4
}
