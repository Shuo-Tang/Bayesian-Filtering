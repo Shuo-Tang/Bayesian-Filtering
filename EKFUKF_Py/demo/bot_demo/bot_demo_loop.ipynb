{
 "cells": [
  {
   "cell_type": "code",
   "execution_count": 3,
   "metadata": {},
   "outputs": [],
   "source": [
    "import numpy as np\n",
    "from tqdm import tqdm, trange"
   ]
  },
  {
   "cell_type": "code",
   "execution_count": 4,
   "metadata": {},
   "outputs": [],
   "source": [
    "## Run the bot demo ns times to obtain some reliable results\n",
    "\n",
    "# Number of loops\n",
    "ns = 30"
   ]
  },
  {
   "cell_type": "code",
   "execution_count": 5,
   "metadata": {},
   "outputs": [
    {
     "name": "stderr",
     "output_type": "stream",
     "text": [
      "100%|██████████| 30/30 [07:25<00:00, 14.86s/it]\n"
     ]
    }
   ],
   "source": [
    "# Allocate space for results\n",
    "rmse_results = np.zeros((ns,10))\n",
    "\n",
    "for loop in trange(ns):\n",
    "    %run ./ukfs_bot_demo.ipynb\n",
    "    %run ./ekfs_bot_demo.ipynb\n",
    "    %run ./ckfs_bot_demo.ipynb\n",
    "    %run ./ghkfs_bot_demo.ipynb\n",
    "    \n",
    "    rmse_results[loop] = [ekf_rmse,   # EKF\n",
    "                          eks_rmse1,  # ERTS\n",
    "                          eks_rmse2,  # ETF\n",
    "                          ukf_rmse,   # UKF\n",
    "                          uks_rmse1,  # URTS\n",
    "                          uks_rmse2,  # UTF\n",
    "                          ghkf_rmse,  # GHKF\n",
    "                          ghks_rmse1, # GHRTS\n",
    "                          ckf_rmse,   # CHKF\n",
    "                          cks_rmse1]  # CRTS"
   ]
  },
  {
   "cell_type": "code",
   "execution_count": 6,
   "metadata": {},
   "outputs": [],
   "source": [
    "# Calculate means\n",
    "means = np.mean(rmse_results,axis=0)"
   ]
  },
  {
   "cell_type": "code",
   "execution_count": 11,
   "metadata": {},
   "outputs": [
    {
     "name": "stdout",
     "output_type": "stream",
     "text": [
      "Average RMSE results over 30  Monte Carlo runs:\n",
      "  EKF1-RMSE  = 0.112271\n",
      "  EKS1-RMSE  = 0.060371\n",
      "  ETF1-RMSE  = 0.061885\n",
      "  UKF1-RMSE  = 0.113311\n",
      "  URTS-RMSE  = 0.053951\n",
      "  UTF-RMSE   = 0.055265\n",
      "  GHKF-RMSE  = 0.106320\n",
      "  GHRTS-RMSE = 0.055288\n",
      "  CKF-RMSE   = 0.109419\n",
      "  CRTS-RMSE  = 0.051348\n",
      "\n"
     ]
    }
   ],
   "source": [
    "# Show average results\n",
    "print('Average RMSE results over', ns, ' Monte Carlo runs:')\n",
    "print('  EKF1-RMSE  = {:4f}\\n  EKS1-RMSE  = {:4f}\\n  ETF1-RMSE  = {:4f}\\n\\\n",
    "  UKF1-RMSE  = {:4f}\\n  URTS-RMSE  = {:4f}\\n  UTF-RMSE   = {:4f}\\n\\\n",
    "  GHKF-RMSE  = {:4f}\\n  GHRTS-RMSE = {:4f}\\n\\\n",
    "  CKF-RMSE   = {:4f}\\n  CRTS-RMSE  = {:4f}\\n'.format(*means))"
   ]
  },
  {
   "cell_type": "code",
   "execution_count": null,
   "metadata": {},
   "outputs": [],
   "source": []
  }
 ],
 "metadata": {
  "kernelspec": {
   "display_name": "Python 3",
   "language": "python",
   "name": "python3"
  },
  "language_info": {
   "codemirror_mode": {
    "name": "ipython",
    "version": 3
   },
   "file_extension": ".py",
   "mimetype": "text/x-python",
   "name": "python",
   "nbconvert_exporter": "python",
   "pygments_lexer": "ipython3",
   "version": "3.7.4"
  }
 },
 "nbformat": 4,
 "nbformat_minor": 4
}
