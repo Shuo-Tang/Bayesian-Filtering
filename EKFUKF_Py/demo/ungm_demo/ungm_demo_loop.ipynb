{
 "cells": [
  {
   "cell_type": "code",
   "execution_count": 1,
   "metadata": {},
   "outputs": [],
   "source": [
    "import numpy as np\n",
    "from tqdm import tqdm, trange"
   ]
  },
  {
   "cell_type": "code",
   "execution_count": 2,
   "metadata": {},
   "outputs": [],
   "source": [
    "## Run the UNGM demo ns times to obtain some reliable results\n",
    "\n",
    "# Number of loops\n",
    "ns = 100"
   ]
  },
  {
   "cell_type": "code",
   "execution_count": 6,
   "metadata": {},
   "outputs": [
    {
     "name": "stderr",
     "output_type": "stream",
     "text": [
      "100%|██████████| 100/100 [04:18<00:00,  2.59s/it]\n"
     ]
    }
   ],
   "source": [
    "# Allocate space for results\n",
    "mse_results = np.zeros((ns,11))\n",
    "\n",
    "for loop in trange(ns):\n",
    "\n",
    "    # Run UNGM demo in silent mode\n",
    "    %run ./ungm_demo.ipynb\n",
    "\n",
    "    mse_results[loop] = [UKF1_MSE, UKS1_MSE, UKF2_MSE, UKS2_MSE, EKF_MSE, ERTS_MSE, BS_MSE, GHKF_MSE, GHRTS_MSE, CKF_MSE, CRTS_MSE]"
   ]
  },
  {
   "cell_type": "code",
   "execution_count": 7,
   "metadata": {},
   "outputs": [],
   "source": [
    "# Calculate means\n",
    "means = np.mean(mse_results, axis=0)"
   ]
  },
  {
   "cell_type": "code",
   "execution_count": 11,
   "metadata": {},
   "outputs": [
    {
     "name": "stdout",
     "output_type": "stream",
     "text": [
      "Average RMSE results over 100  Monte Carlo runs:\n",
      "  UKF1-MSE = 51.469209\n",
      "  UKS1-MSE = 46.028389\n",
      "  UKF2-MSE = 26.941445\n",
      "  UKS2-MSE = 16.983471\n",
      "  EKF-MSE  = 122.574226\n",
      "  ERTS-MSE = 92.319951\n",
      "  BS-MSE   = 10.280303\n",
      "  GHKF-MSE  = 41.839714\n",
      "  GHRTS-MSE = 32.813674\n",
      "  CKF-MSE   = 73.715372\n",
      "  CRTS-MSE  = 70.976363\n",
      "\n"
     ]
    }
   ],
   "source": [
    "# Show average results\n",
    "print('Average RMSE results over', ns, ' Monte Carlo runs:')\n",
    "print('  UKF1-MSE = {:2f}\\n  UKS1-MSE = {:2f}\\n  UKF2-MSE = {:2f}\\n\\\n",
    "  UKS2-MSE = {:2f}\\n  EKF-MSE  = {:2f}\\n  ERTS-MSE = {:2f}\\n  BS-MSE   = {:2f}\\n  GHKF-MSE  = {:2f}\\n\\\n",
    "  GHRTS-MSE = {:2f}\\n  CKF-MSE   = {:2f}\\n  CRTS-MSE  = {:2f}\\n'.format(*means))"
   ]
  }
 ],
 "metadata": {
  "kernelspec": {
   "display_name": "Python 3",
   "language": "python",
   "name": "python3"
  },
  "language_info": {
   "codemirror_mode": {
    "name": "ipython",
    "version": 3
   },
   "file_extension": ".py",
   "mimetype": "text/x-python",
   "name": "python",
   "nbconvert_exporter": "python",
   "pygments_lexer": "ipython3",
   "version": "3.7.4"
  }
 },
 "nbformat": 4,
 "nbformat_minor": 4
}
